{
 "cells": [
  {
   "cell_type": "markdown",
   "metadata": {},
   "source": [
    "# Hello Quantum World (Qiskit 1.x)\n",
    "\n",
    "This notebook will guide you through a **first quantum experiment** inspired by the official IBM Quantum *Hello world* tutorial. You will learn how to use the **primitives** `Sampler` and `Estimator`, and review the key concepts of quantum computing."
   ]
  },
  {
   "cell_type": "markdown",
   "metadata": {},
   "source": [
    "## 1) Import libraries"
   ]
  },
  {
   "cell_type": "code",
   "execution_count": null,
   "metadata": {},
   "outputs": [],
   "source": [
    "from qiskit import QuantumCircuit\n",
    "from qiskit.primitives import Sampler, Estimator\n",
    "from qiskit.quantum_info import SparsePauliOp\n",
    "import numpy as np"
   ]
  },
  {
   "cell_type": "markdown",
   "metadata": {},
   "source": [
    "## 2) Quick fundamentals\n",
    "- **Qubit**: state $\\alpha|0\\rangle + \\beta|1\\rangle$.\n",
    "- **Superposition** with `H`.\n",
    "- **Entanglement** with `H` + `CX`.\n",
    "- **Measurement**: produces bits
