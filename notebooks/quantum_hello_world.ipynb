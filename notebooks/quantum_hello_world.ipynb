{
 "cells": [
  {
   "cell_type": "markdown",
   "metadata": {},
   "source": [
    "# Hello Quantum World (Qiskit 1.x)\n",
    "\n",
    "Este notebook te guía por un **primer experimento cuántico** inspirado en el tutorial oficial de IBM Quantum *Hello world*. Aprenderás a usar los **primitivos** `Sampler` y `Estimator`, y repasaremos conceptos clave de la computación cuántica."
   ]
  },
  {
   "cell_type": "markdown",
   "metadata": {},
   "source": [
    "## 1) Importar librerías"
   ]
  },
  {
   "cell_type": "code",
   "execution_count": null,
   "metadata": {},
   "outputs": [],
   "source": [
    "from qiskit import QuantumCircuit\n",
    "from qiskit.primitives import Sampler, Estimator\n",
    "from qiskit.quantum_info import SparsePauliOp\n",
    "import numpy as np"
   ]
  },
  {
   "cell_type": "markdown",
   "metadata": {},
   "source": [
    "## 2) Fundamentos rápidos\n",
    "- **Qubit**: estado $\\alpha|0\\rangle + \\beta|1\\rangle$.\n",
    "- **Superposición** con `H`.\n",
    "- **Entrelazamiento** con `H` + `CX`.\n",
    "- **Medición**: obtenemos bitstrings con probabilidades.\n",
    "- **Primitivos**:\n",
    "  - `Sampler`: distribuciones de salida.\n",
    "  - `Estimator`: valores esperados de observables."
   ]
  },
  {
   "cell_type": "markdown",
   "metadata": {},
   "source": [
    "## 3) Tu primer circuito: superposición con `H`\n",
    "Esperamos ~50/50 entre `0` y `1` al medir."
   ]
  },
  {
   "cell_type": "code",
   "execution_count": null,
   "metadata": {},
   "outputs": [],
   "source": [
    "qc = QuantumCircuit(1,1)\n",
    "qc.h(0)\n",
    "qc.measure(0,0)\n",
    "qc.draw(\"text\")"
   ]
  },
  {
   "cell_type": "code",
   "execution_count": null,
   "metadata": {},
   "outputs": [],
   "source": [
    "sampler = Sampler()\n",
    "result = sampler.run([qc], shots=2000).result()\n",
    "result[0].data.meas.get_counts()"
   ]
  },
  {
   "cell_type": "markdown",
   "metadata": {},
   "source": [
    "## 4) Estado de Bell\n",
    "Aplicamos `H` en el primer qubit y `CX` para crear entrelazamiento. Las salidas **00** y **11** dominan."
   ]
  },
  {
   "cell_type": "code",
   "execution_count": null,
   "metadata": {},
   "outputs": [],
   "source": [
    "bell = QuantumCircuit(2,2)\n",
    "bell.h(0)\n",
    "bell.cx(0,1)\n",
    "bell.measure([0,1],[0,1])\n",
    "Sampler().run([bell], shots=2000).result()[0].data.meas.get_counts()"
   ]
  },
  {
   "cell_type": "markdown",
   "metadata": {},
   "source": [
    "## 5) `Estimator`: valores esperados\n",
    "Calculemos $\\langle Z \\rangle$ y $\\langle X \\rangle$ para el estado $|+\\rangle$."
   ]
  },
  {
   "cell_type": "code",
   "execution_count": null,
   "metadata": {},
   "outputs": [],
   "source": [
    "plus = QuantumCircuit(1)\n",
    "plus.h(0)\n",
    "\n",
    "z = SparsePauliOp.from_list([('Z', 1.0)])\n",
    "x = SparsePauliOp.from_list([('X', 1.0)])\n",
    "\n",
    "est = Estimator()\n",
    "ez = est.run([(plus, z)]).result()[0].data.evs[0]\n",
    "ex = est.run([(plus, x)]).result()[0].data.evs[0]\n",
    "float(ez), float(ex)"
   ]
  },
  {
   "cell_type": "markdown",
   "metadata": {},
   "source": [
    "**Interpretación:** para $|+\\rangle$, $\\langle Z \\rangle \\approx 0$ y $\\langle X \\rangle \\approx 1$."
   ]
  },
  {
   "cell_type": "markdown",
   "metadata": {},
   "source": [
    "## 6) (Opcional) Ejecutar en IBM Quantum\n",
    "1. Crea una API key y configura `QiskitRuntimeService`.\n",
    "2. Sustituye los primitivos locales por `SamplerV2`/`EstimatorV2` dentro de una `Session`.\n",
    "3. Lanza tus experimentos en un backend real."
   ]
  },
  {
   "cell_type": "code",
   "execution_count": null,
   "metadata": {},
   "outputs": [],
   "source": [
    "# from qiskit_ibm_runtime import QiskitRuntimeService, Session, SamplerV2, EstimatorV2\n",
    "# service = QiskitRuntimeService(channel=\"ibm_quantum\", instance=\"ibm-q/open/main\")\n",
    "# with Session(service=service, backend=\"ibm_brisbane\") as session:\n",
    "#     sampler = SamplerV2(session=session)\n",
    "#     estimator = EstimatorV2(session=session)\n",
    "#     print(sampler.run([qc], shots=2000).result()[0].data.meas.get_counts())\n",
    "#     print(estimator.run([(plus, z)]).result()[0].data.evs[0])"
   ]
  }
 ],
 "metadata": {
  "kernelspec": {
   "display_name": "Python 3",
   "language": "python",
   "name": "python3"
  },
  "language_info": {
   "name": "python",
   "version": "3.10"
  }
 },
 "nbformat": 4,
 "nbformat_minor": 5
}
