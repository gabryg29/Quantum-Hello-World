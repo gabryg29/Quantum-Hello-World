{
 "cells": [
  {
   "cell_type": "markdown",
   "metadata": {},
   "source": [
    "# Hello Quantum World (Qiskit 1.x)\n",
    "\n",
    "This notebook will guide you through a **first quantum experiment** inspired by the official IBM Quantum *Hello world* tutorial. You will learn how to use the **primitives** `Sampler` and `Estimator`, and review the key concepts of quantum computing."
   ]
  },
  {
   "cell_type": "markdown",
   "metadata": {},
   "source": [
    "## 1) Import libraries"
   ]
  },
  {
   "cell_type": "code",
   "execution_count": null,
   "metadata": {},
   "outputs": [],
   "source": [
    "from qiskit import QuantumCircuit\n",
    "from qiskit.primitives import Sampler, Estimator\n",
    "from qiskit.quantum_info import SparsePauliOp\n",
    "import numpy as np"
   ]
  },
  {
   "cell_type": "markdown",
   "metadata": {},
   "source": [
    "## 2) Quick fundamentals\n",
    "- **Qubit**: state $\\alpha|0\\rangle + \\beta|1\\rangle$.\n",
    "- **Superposition** with `H`.\n",
    "- **Entanglement** with `H` + `CX`.\n",
    "- **Measurement**: produces bitstrings with certain probabilities.\n",
    "- **Primitives**:\n",
    "  - `Sampler`: output distributions.\n",
    "  - `Estimator`: expectation values of observables."
   ]
  },
  {
   "cell_type": "markdown",
   "metadata": {},
   "source": [
    "## 3) Your first circuit: superposition with `H`\n",
    "We expect ~50/50 between `0` and `1` after measurement."
   ]
  },
  {
   "cell_type": "code",
   "execution_count": null,
   "metadata": {},
   "outputs": [],
   "source": [
    "qc = QuantumCircuit(1,1)\n",
    "qc.h(0)\n",
    "qc.measure(0,0)\n",
    "qc.draw(\"text\")"
   ]
  },
  {
   "cell_type": "code",
   "execution_count": null,
   "metadata": {},
   "outputs": [],
   "source": [
    "sampler = Sampler()\n",
    "result = sampler.run([qc], shots=2000).result()\n",
    "result[0].data.meas.get_counts()"
   ]
  },
  {
   "cell_type": "markdown",
   "metadata": {},
   "source": [
    "## 4) Bell state\n",
    "Apply `H` on the first qubit and `CX` to create entanglement. The outputs **00** and **11** dominate."
   ]
  },
  {
   "cell_type": "code",
   "execution_count": null,
   "metadata": {},
   "outputs": [],
   "source": [
    "bell = QuantumCircuit(2,2)\n",
    "bell.h(0)\n",
    "bell.cx(0,1)\n",
    "bell.measure([0,1],[0,1])\n",
    "Sampler().run([bell], shots=2000).result()[0].data.meas.get_counts()"
   ]
  },
  {
   "cell_type": "markdown",
   "metadata": {},
   "source": [
    "## 5) `Estimator`: expectation values\n",
    "Let’s compute $\\langle Z \\rangle$ and $\\langle X \\rangle$ for the state $|+\\rangle$."
   ]
  },
  {
   "cell_type": "code",
   "execution_count": null,
   "metadata": {},
   "outputs": [],
   "source": [
    "plus = QuantumCircuit(1)\n",
    "plus.h(0)\n",
    "\n",
    "z = SparsePauliOp.from_list([('Z', 1.0)])\n",
    "x = SparsePauliOp.from_list([('X', 1.0)])\n",
    "\n",
    "est = Estimator()\n",
    "ez = est.run([(plus, z)]).result()[0].data.evs[0]\n",
    "ex = est.run([(plus, x)]).result()[0].data.evs[0]\n",
    "float(ez), float(ex)"
   ]
  },
  {
   "cell_type": "markdown",
   "metadata": {},
   "source": [
    "**Interpretation:** for $|+\\rangle$, $\\langle Z \\rangle \\approx 0$ and $\\langle X \\rangle \\approx 1$."
   ]
  },
  {
   "cell_type": "markdown",
   "metadata": {},
   "source": [
    "## 6) (Optional) Run on IBM Quantum\n",
    "1. Create an API key and configure `QiskitRuntimeService`.\n",
    "2. Replace local primitives with `SamplerV2`/`EstimatorV2` inside a `Session`.\n",
    "3. Run the experiments on a real backend."
   ]
  },
  {
   "cell_type": "code",
   "execution_count": null,
   "metadata": {},
   "outputs": [],
   "source": [
    "# from qiskit_ibm_runtime import QiskitRuntimeService, Session, SamplerV2, EstimatorV2\n",
    "# service = QiskitRuntimeService(channel=\"ibm_quantum\", instance=\"ibm-q/open/main\")\n",
    "# with Session(service=service, backend=\"ibm_brisbane\") as session:\n",
    "#     sampler = SamplerV2(session=session)\n",
    "#     estimator = EstimatorV2(session=session)\n",
    "#     print(sampler.run([qc], shots=2000).result()[0].data.meas.get_counts())\n",
    "#     print(estimator.run([(plus, z)]).result()[0].data.evs[0])"
   ]
  }
 ],
 "metadata": {
  "kernelspec": {
   "display_name": "Python 3",
   "language": "python",
   "name": "python3"
  },
  "language_info": {
   "name": "python",
   "version": "3.10"
  }
 },
 "nbformat": 4,
 "nbformat_minor": 5
}
